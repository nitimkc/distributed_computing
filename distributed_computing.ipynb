{
 "cells": [
  {
   "cell_type": "code",
   "execution_count": 46,
   "metadata": {},
   "outputs": [
    {
     "data": {
      "text/plain": [
       "pyspark.rdd.RDD"
      ]
     },
     "execution_count": 46,
     "metadata": {},
     "output_type": "execute_result"
    }
   ],
   "source": [
    "# number of workers you have started\n",
    "numPartitions = 4\n",
    "\n",
    "# loading the text file and convert to RDD\n",
    "rdd = sc.textFile(\"s3n://dist_computing/data/bank.csv\", numPartitions)\n",
    "type(rdd)"
   ]
  },
  {
   "cell_type": "code",
   "execution_count": 47,
   "metadata": {},
   "outputs": [
    {
     "name": "stdout",
     "output_type": "stream",
     "text": [
      "41188\n",
      "[u'0,56,261,4.857,5191,0,1.1,93.994,-36.4', u'0,57,149,4.857,5191,0,1.1,93.994,-36.4', u'0,37,226,4.857,5191,0,1.1,93.994,-36.4']\n",
      "0,56,261,4.857,5191,0,1.1,93.994,-36.4\n",
      "0,57,149,4.857,5191,0,1.1,93.994,-36.4\n",
      "0,37,226,4.857,5191,0,1.1,93.994,-36.4\n"
     ]
    }
   ],
   "source": [
    "# count the number of observations in the dataset\n",
    "noObs = rdd.count()\n",
    "print noObs\n",
    "\n",
    "# get only 3 observations from the whole dataset\n",
    "noObservations = 3\n",
    "fewObs = rdd.take(noObservations)\n",
    "print fewObs\n",
    "\n",
    "for x in rdd.take(noObservations):\n",
    "    print x"
   ]
  },
  {
   "cell_type": "code",
   "execution_count": 48,
   "metadata": {},
   "outputs": [],
   "source": [
    "# checking for correct result\n",
    "assert noObs == 41188, \"Something is wrong here!\"\n",
    "assert len(fewObs) == noObservations, \"You did not extract correct number of observations\""
   ]
  },
  {
   "cell_type": "code",
   "execution_count": 49,
   "metadata": {},
   "outputs": [
    {
     "name": "stdout",
     "output_type": "stream",
     "text": [
      "1.9.2\n"
     ]
    }
   ],
   "source": [
    "import numpy as np\n",
    "print np.__version__"
   ]
  },
  {
   "cell_type": "code",
   "execution_count": 50,
   "metadata": {},
   "outputs": [
    {
     "name": "stdout",
     "output_type": "stream",
     "text": [
      "<type 'list'>\n",
      "[57.0,149.0,4.857,5191.0,0.0,1.1,93.994,-36.4]\n",
      "0.0\n"
     ]
    }
   ],
   "source": [
    "from pyspark.mllib.regression import LabeledPoint\n",
    "import numpy as np\n",
    "\n",
    "# input: line, a single observation consisting of a string\n",
    "# output: LabeledPoint instance, text converted to distinct variables, label and features\n",
    "\n",
    "def parseTextLine(line):\n",
    "    parts = line.split(',')\n",
    "    label, features = parts[0], parts[1:]\n",
    "    return LabeledPoint(label, features)\n"
   ]
  },
  {
   "cell_type": "code",
   "execution_count": 51,
   "metadata": {},
   "outputs": [],
   "source": [
    "assert len(parsedLines[1].features) == 8, 'You should have 8 features!'"
   ]
  },
  {
   "cell_type": "code",
   "execution_count": 52,
   "metadata": {
    "collapsed": true
   },
   "outputs": [],
   "source": [
    "# use your parseTextLine function on every observation\n",
    "\n",
    "parsedRDD = rdd.map(parseTextLine)\n",
    "#parsedRDD.take(3)"
   ]
  },
  {
   "cell_type": "code",
   "execution_count": 53,
   "metadata": {},
   "outputs": [
    {
     "name": "stdout",
     "output_type": "stream",
     "text": [
      "8\n"
     ]
    }
   ],
   "source": [
    "# Normalizing features\n",
    "\n",
    "# take a single row and compute the number of features in it\n",
    "noFeatures = len(parsedRDD.first().features)\n",
    "\n",
    "print noFeatures  # you should get 8"
   ]
  },
  {
   "cell_type": "code",
   "execution_count": 54,
   "metadata": {},
   "outputs": [
    {
     "name": "stdout",
     "output_type": "stream",
     "text": [
      "0\n",
      "1\n",
      "2\n",
      "3\n",
      "4\n",
      "5\n",
      "6\n",
      "7\n",
      "[17.0, 0.0, 0.63400000000000001, 4963.6000000000004, 0.0, -3.3999999999999999, 92.200999999999993, -50.799999999999997]\n",
      "[98.0, 4918.0, 5.0449999999999999, 5228.1000000000004, 7.0, 1.3999999999999999, 94.766999999999996, -26.899999999999999]\n"
     ]
    }
   ],
   "source": [
    "# get min and max for each feature \n",
    "featuresMin = []; featuresMax = []\n",
    "for i in range(noFeatures):\n",
    "    print i\n",
    "    feature = parsedRDD.map(lambda lp: lp.features[i])\n",
    "    featuresMin.append(feature.min())\n",
    "    featuresMax.append(feature.max())\n",
    "\n",
    "# print min and max values\n",
    "print featuresMin\n",
    "print featuresMax\n"
   ]
  },
  {
   "cell_type": "code",
   "execution_count": 108,
   "metadata": {},
   "outputs": [
    {
     "name": "stdout",
     "output_type": "stream",
     "text": [
      "0.0\n",
      "1.0\n"
     ]
    }
   ],
   "source": [
    "# normalizing each feature according to min and max information\n",
    "\n",
    "# input: lp, LabeledPoint, a single observation\n",
    "#        featuresMin, a list of minimum values for each feature\n",
    "#        featureMax, a list of maximum values for each feature\n",
    "# output: a LabeledPoint with original label, but new, transformed features\n",
    "\n",
    "\n",
    "def normalize(lp, featuresMin, featuresMax):\n",
    "    trnsFeatures = range(noFeatures)\n",
    "    for i in range(noFeatures):\n",
    "        trnsFeatures[i] = (lp.features[i] - featuresMin[i])/(featuresMax[i] - featuresMin[i])\n",
    "        return LabeledPoint(lp.label, trnsFeatures)\n",
    "\n",
    "\n",
    "normedRDD = parsedRDD.map(lambda lp: normalize(lp, featuresMin, featuresMax))\n",
    "\n",
    "# should see 0 and 1 as a result here\n",
    "print normedRDD.map(lambda lp: lp.features[0]).min()\n",
    "print normedRDD.map(lambda lp: lp.features[0]).max()"
   ]
  },
  {
   "cell_type": "code",
   "execution_count": 56,
   "metadata": {},
   "outputs": [],
   "source": [
    "# do not change the weights and the seed\n",
    "weights = [.7, .15, .15]\n",
    "seed = 1111\n",
    "\n",
    "# use randomSplit with weights and seed defined above on the trainRDD\n",
    "trainRDD, valRDD, testRDD = normedRDD.randomSplit(weights, seed)"
   ]
  },
  {
   "cell_type": "code",
   "execution_count": 57,
   "metadata": {},
   "outputs": [
    {
     "name": "stdout",
     "output_type": "stream",
     "text": [
      "Training: 28940.000, Validation: 6121.000, Test: 6127.000, All: 41188.000\n"
     ]
    }
   ],
   "source": [
    "# cache the data\n",
    "trainRDD.cache()\n",
    "valRDD.cache()\n",
    "testRDD.cache()\n",
    "\n",
    "# get the number of observation in each subset\n",
    "noTrain = trainRDD.count()\n",
    "noVal = valRDD.count()\n",
    "noTest = testRDD.count()\n",
    "\n",
    "print \"Training: {0:.3f}, Validation: {1:.3f}, Test: {2:.3f}, All: {3:.3f}\".format(noTrain, noVal, noTest, noTrain + noVal + noTest)\n"
   ]
  },
  {
   "cell_type": "code",
   "execution_count": 109,
   "metadata": {},
   "outputs": [
    {
     "name": "stdout",
     "output_type": "stream",
     "text": [
      "0.112370421562\n"
     ]
    }
   ],
   "source": [
    "# compute mean over label part of LabeledPoints\n",
    "import numpy\n",
    "meanLabel = (trainRDD\n",
    "             .map(lambda lp: lp.label)\n",
    "             .mean())\n",
    "print meanLabel"
   ]
  },
  {
   "cell_type": "code",
   "execution_count": 110,
   "metadata": {},
   "outputs": [
    {
     "name": "stdout",
     "output_type": "stream",
     "text": [
      "0.333333333333\n"
     ]
    }
   ],
   "source": [
    "\n",
    "# inputs: probability, float, that the observation is 1\n",
    "#         threshold, float, for classifying predicted probability as 0 or 1\n",
    "# output: float, predicted label, either 0 or 1\n",
    "\n",
    "def classify(probability, threshold):\n",
    "    if probability > threshold:\n",
    "        return 1\n",
    "    else:\n",
    "        return 0\n",
    "\n",
    "# compute the misclassification error for a single observation and its prediction,\n",
    "# use classify function to convert probability into predicted labels\n",
    "\n",
    "# input: probability, float between 0 and 1\n",
    "#        predictedLabel, float, either 0 or 1, \n",
    "#        threshold, float, for classifying predicted probability as 0 or 1\n",
    "# output: float, 0 if correct and 1 if incorrect\n",
    "\n",
    "def misErrorSingle(probability, label, threshold):\n",
    "    pred = classify(probability,threshold)\n",
    "    if pred==label:\n",
    "        return 0\n",
    "    else:\n",
    "        return 1\n",
    "    \n",
    "    \n",
    "# compute mean misclassification error on RDD labPred (see example below)\n",
    "# apply the function misErrorSingle on the whole RDD\n",
    "\n",
    "# input: labPredRDD, a label prediction tuples\n",
    "#        threshold, float, for classifying predicted probability as 0 or 1\n",
    "# output: mean misclassification error\n",
    "\n",
    "def misError(labPredRDD, threshold):\n",
    "    misClsError = labPredRDD.map(lambda lp: misErrorSingle(lp[0], lp[1], threshold))\n",
    "    return misClsError.mean()\n",
    "\n",
    "\n",
    "# check on an easy example, 1 observation misclassified, 2 correct\n",
    "labPredRDD_ex = sc.parallelize([(0., 1.), (0., 0.), (1., 1.)])\n",
    "threshold = 0.5\n",
    "misError_ex = misError(labPredRDD_ex, threshold)\n",
    "print misError_ex"
   ]
  },
  {
   "cell_type": "code",
   "execution_count": 62,
   "metadata": {
    "collapsed": true
   },
   "outputs": [],
   "source": [
    "assert np.allclose(misError_ex, 0.333333333333), 'incorrect value for misError_ex'"
   ]
  },
  {
   "cell_type": "code",
   "execution_count": 63,
   "metadata": {
    "scrolled": true
   },
   "outputs": [
    {
     "name": "stdout",
     "output_type": "stream",
     "text": [
      "Baseline model - Train misclassification error = 0.112\n",
      "Baseline model - Validation misclassification error = 0.110\n",
      "Baseline model - Test misclassification error = 0.117\n"
     ]
    }
   ],
   "source": [
    "# set the threshold for evaluating the probabiliteis\n",
    "threshold = 0.5\n",
    "\n",
    "# for each dataset first create RDD's of tuples with meanLabel and label in each tuple   \n",
    "# and then feed these RDD's into misError function\n",
    "baseTrain = trainRDD.map(lambda x: (meanLabel, x.label))\n",
    "baseTrain_misError = misError(baseTrain, threshold)\n",
    "\n",
    "baseVal = valRDD.map(lambda x: (meanLabel, x.label))\n",
    "baseVal_misError = misError(baseVal, threshold)\n",
    "\n",
    "baseTest = testRDD.map(lambda x: (meanLabel, x.label))\n",
    "baseTest_misError = misError(baseTest, threshold)\n",
    "\n",
    "print 'Baseline model - Train misclassification error = {0:.3f}'.format(baseTrain_misError)\n",
    "print 'Baseline model - Validation misclassification error = {0:.3f}'.format(baseVal_misError)\n",
    "print 'Baseline model - Test misclassification error = {0:.3f}'.format(baseTest_misError)"
   ]
  },
  {
   "cell_type": "code",
   "execution_count": 64,
   "metadata": {
    "collapsed": true
   },
   "outputs": [],
   "source": [
    "from pyspark.mllib.linalg import DenseVector"
   ]
  },
  {
   "cell_type": "code",
   "execution_count": 100,
   "metadata": {},
   "outputs": [
    {
     "name": "stdout",
     "output_type": "stream",
     "text": [
      "0.69314718056\n",
      "0.0100503358535\n",
      "4.60517018599\n",
      "25.3284360229\n",
      "1.00000008275e-11\n"
     ]
    }
   ],
   "source": [
    "from math import log\n",
    "\n",
    "# input: prob, float, value between 0 and 1, predicted probability that label=1\n",
    "#        lab, float, label of the observation, either 0 or 1\n",
    "# output: float, negative log likelihood of a single observation\n",
    "\n",
    "def logLossSingle(prob, lab):\n",
    "    \n",
    "    # if probability is too small/large add/subtract this epsilon value\n",
    "    # this is because log(0) is not defined\n",
    "    epsilon = 10e-12\n",
    "    if np.isclose(prob, 0.0):\n",
    "        prob = prob + epsilon\n",
    "    elif np.isclose(prob, 1.0):\n",
    "         prob = prob - epsilon\n",
    "        \n",
    "    # now return the log loss\n",
    "    return -(lab*log(prob) + (1 - lab)*(1 - prob))\n",
    "\n",
    "# if you get an error on any of these check your computations, especially epsilon\n",
    "print logLossSingle(.5, 1)   # 0.69314718056\n",
    "print logLossSingle(.99, 1)  # 0.0100503358535\n",
    "print logLossSingle(.01, 1)  # 4.60517018599\n",
    "print logLossSingle(0, 1)    # 25.3284360229\n",
    "print logLossSingle(1, 1)    # 1.00000008275e-11\n"
   ]
  },
  {
   "cell_type": "code",
   "execution_count": 111,
   "metadata": {},
   "outputs": [
    {
     "name": "stdout",
     "output_type": "stream",
     "text": [
      "1.76277245552\n"
     ]
    }
   ],
   "source": [
    "# compute the mean log loss on the whole RDD probLab \n",
    "# input: probLab, RDD of probability label tuples\n",
    "# output: float, mean log loss\n",
    "\n",
    "def logLoss(probLab):\n",
    "    # apply the function logLossSingle on the whole RDD and compute the mean\n",
    "    meanLogLoss = probLab.map(lambda lp: logLossSingle(lp[0], lp[1])).mean()\n",
    "    return meanLogLoss\n",
    "\n",
    "# check it on an easy example\n",
    "probLabRDD_ex = sc.parallelize([(0.5, 1.), (0.99, 0.), (0.01, 1.)])\n",
    "logLoss_ex = logLoss(probLabRDD_ex)\n",
    "print logLoss_ex"
   ]
  },
  {
   "cell_type": "code",
   "execution_count": 112,
   "metadata": {},
   "outputs": [
    {
     "name": "stdout",
     "output_type": "stream",
     "text": [
      "0.5\n",
      "1.0\n",
      "3.72007597602e-44\n"
     ]
    }
   ],
   "source": [
    "import math\n",
    "\n",
    "# define sigmoid function\n",
    "# input: z, a float, result of a dot product between weights and feature values\n",
    "# output: a float, dot product transformed to 0-1 range\n",
    "\n",
    "def sigmoid(z):\n",
    "    return (1 / (1 + math.exp(-z)))\n",
    "\n",
    "print sigmoid(0)  # should produce 0.5\n",
    "print sigmoid(100)  # should produce number close to 1\n",
    "print sigmoid(-100)  # should produce number close to 0"
   ]
  },
  {
   "cell_type": "code",
   "execution_count": 87,
   "metadata": {},
   "outputs": [
    {
     "name": "stdout",
     "output_type": "stream",
     "text": [
      "[3.05902226994e-07,3.05902226994e-07,3.05902226994e-07,3.05902226994e-07,3.05902226994e-07]\n"
     ]
    }
   ],
   "source": [
    "# compute the gradient for a single observation\n",
    "# inputs: weights, an array of regression coefficients; \n",
    "#         lp, a LabeledPoint of a single observation\n",
    "# output: DenseVector, an array of values, same length as weights\n",
    "\n",
    "def gradient(weights, lp):\n",
    "    crsprod = weights.dot(lp.features)\n",
    "    DenseVector = (lp.label - sigmoid(crsprod)) * lp.features\n",
    "    return DenseVector\n",
    "\n",
    "weights_ex = DenseVector([1, 2, 3, 4, 5])\n",
    "lp_ex = LabeledPoint(1.0, [1, 1, 1, 1, 1])\n",
    "gradient_ex = gradient(weights_ex, lp_ex)\n",
    "print gradient_ex\n",
    "\n",
    "# you should see a following vector: \n",
    "# [3.05902226994e-07,3.05902226994e-07,3.05902226994e-07,3.05902226994e-07,3.05902226994e-07]\n",
    "# sigmoid should produce smth close to 1 so when it is subtracted from 1 we get smth close to 0"
   ]
  },
  {
   "cell_type": "code",
   "execution_count": 113,
   "metadata": {},
   "outputs": [
    {
     "name": "stdout",
     "output_type": "stream",
     "text": [
      "[(0.9525741268224334, 1.0), (0.11920292202211755, 0.0)]\n",
      "-0.416104863202\n"
     ]
    }
   ],
   "source": [
    "\n",
    "# input: weights, a numpy array, and lp, a LabeledPoint\n",
    "# output: a tuple consisting of a predicted probability and a label\n",
    "\n",
    "def probLabTuple(weights, lp):\n",
    "    dotProd = weights.dot(lp.features)\n",
    "    predProb = sigmoid(dotProd)\n",
    "    return (predProb, lp.label)\n",
    "\n",
    "# check it on an easy example\n",
    "weights_ex = np.array([1, 2, 3, 4, 5])\n",
    "data_ex = sc.parallelize([LabeledPoint(1, np.array([-1, -1, -1, 1, 1])),\n",
    "                          LabeledPoint(0, np.array([-2, 2, -2, -2, 2]))])\n",
    "probLab_ex = data_ex.map(lambda lp: probLabTuple(weights_ex, lp))\n",
    "\n",
    "print probLab_ex.collect()\n",
    "print logLoss(probLab_ex)"
   ]
  },
  {
   "cell_type": "code",
   "execution_count": 107,
   "metadata": {},
   "outputs": [
    {
     "name": "stdout",
     "output_type": "stream",
     "text": [
      "weights\n",
      "PythonRDD[389] at RDD at PythonRDD.scala:43\n"
     ]
    }
   ],
   "source": [
    "# set the parameters, setting diagnostics to True will increase the time \n",
    "# with 14 workers this took about 5 min\n",
    "alpha = 6\n",
    "noIter = 500\n",
    "diagnostics = False\n",
    "\n",
    "\n",
    "# run the gradient descent on whole training set\n",
    "weights_gd = trainRDD.map(lambda lp: gradientDescent(lp, noIter, alpha, diagnostics))\n",
    "print \"weights\\n\", weights_gd\n"
   ]
  },
  {
   "cell_type": "code",
   "execution_count": null,
   "metadata": {},
   "outputs": [],
   "source": [
    "# threshold parameter for misclassification\n",
    "threshold = 0.5\n",
    "\n",
    "# compute the log loss and missclassification error on training \n",
    "probLabTrain = trainRDD.map(lambda lp: probLabTuple(weights_gd, lp)) \n",
    "logLossTrain_gd = logLoss(probLabTrain)\n",
    "misErrorTrain_gd = misError(probLabTrain, threshold)\n",
    "\n",
    "print logLossTrain_gd, misErrorTrain_gd\n",
    "\n",
    "# and validation set\n",
    "probLabVal = valRDD.map(lambda lp: probLabTuple(weights_gd, lp))\n",
    "logLossVal_gd = logLoss(probLabVal)\n",
    "misErrorVal_gd = misError(probLabVal, threshold)\n",
    "\n",
    "print logLossVal_gd, misErrorVal_gd"
   ]
  },
  {
   "cell_type": "code",
   "execution_count": 118,
   "metadata": {},
   "outputs": [
    {
     "name": "stdout",
     "output_type": "stream",
     "text": [
      "-0.542249636521 0.112370421562\n",
      "-0.549690989212 0.109949354681\n"
     ]
    }
   ],
   "source": [
    "# compare it with the logLoss of the baseline model\n",
    "# training set\n",
    "probLabTrain = trainRDD.map(lambda lp: (meanLabel, lp.label))                            \n",
    "logLossTrain_base = logLoss(probLabTrain)\n",
    "\n",
    "print logLossTrain_base, baseTrain_misError\n",
    "\n",
    "# validation set\n",
    "probLabVal = valRDD.map(lambda lp: (meanLabel, lp.label))\n",
    "logLossVal_base = logLoss(probLabVal)\n",
    "\n",
    "print logLossVal_base, baseVal_misError"
   ]
  },
  {
   "cell_type": "code",
   "execution_count": 119,
   "metadata": {
    "collapsed": true
   },
   "outputs": [],
   "source": [
    "from pyspark.mllib.classification import LogisticRegressionWithSGD\n",
    "\n",
    "# set parameters\n",
    "noIter = 500\n",
    "alpha = 60  # MLlib algorithm uses decaying learning rate, so we need to increase it\n",
    "batchSize = 0.003  # defined as proportion of the whole dataset, ~100 observations\n",
    "regLambda = 1e-6\n",
    "regType = 'l2'\n",
    "intercept = False"
   ]
  },
  {
   "cell_type": "code",
   "execution_count": 123,
   "metadata": {},
   "outputs": [],
   "source": [
    "# training the model on trainRDD\n",
    "model_sgd = LogisticRegressionWithSGD.train(data = trainRDD, \n",
    "                                           iterations = noIter, \n",
    "                                           step = alpha, \n",
    "                                           miniBatchFraction = batchSize, \n",
    "                                           initialWeights = None, \n",
    "                                           regParam = regLambda, \n",
    "                                           regType = regType, \n",
    "                                           intercept = intercept \n",
    "                                           )\n"
   ]
  },
  {
   "cell_type": "code",
   "execution_count": 124,
   "metadata": {},
   "outputs": [
    {
     "name": "stdout",
     "output_type": "stream",
     "text": [
      "[4.2985946267,-1.36479713136,-2.72959426271,-4.09439139407,-5.45918852543,-6.82398565679,-8.18878278814,-9.5535799195]\n"
     ]
    }
   ],
   "source": [
    "# check the weights\n",
    "weights_sgd = model_sgd.weights\n",
    "print weights_sgd"
   ]
  },
  {
   "cell_type": "code",
   "execution_count": 125,
   "metadata": {},
   "outputs": [
    {
     "name": "stdout",
     "output_type": "stream",
     "text": [
      "1.95853745497 0.112370421562\n",
      "1.89479455048 0.109949354681\n"
     ]
    }
   ],
   "source": [
    "# evaluate the model\n",
    "\n",
    "# create probLabRDD and compute the log loss and missclassification error on training, using the new SGD weights\n",
    "probLabTrain = trainRDD.map(lambda lp: probLabTuple(weights_sgd, lp))\n",
    "logLossTrain_sgd = logLoss(probLabTrain)\n",
    "misErrorTrain_sgd = misError(probLabTrain, threshold)\n",
    "\n",
    "print logLossTrain_sgd, misErrorTrain_sgd\n",
    "\n",
    "# for validation set, using the new SGD weights\n",
    "probLabVal = valRDD.map(lambda lp: probLabTuple(weights_sgd, lp))\n",
    "logLossVal_sgd = logLoss(probLabVal)\n",
    "misErrorVal_sgd = misError(probLabVal, threshold)\n",
    "\n",
    "print logLossVal_sgd, misErrorVal_sgd"
   ]
  },
  {
   "cell_type": "code",
   "execution_count": 126,
   "metadata": {},
   "outputs": [
    {
     "name": "stdout",
     "output_type": "stream",
     "text": [
      "alpha = 1e-01, lambda = 1e-06, loss = 1.895\n",
      "alpha = 1e-01, lambda = 0.001, loss = 1.895\n",
      "alpha = 1e-01, lambda = 1, loss = 1.895\n",
      "alpha = 1e+00, lambda = 1e-06, loss = 1.895\n",
      "alpha = 1e+00, lambda = 0.001, loss = 1.895\n",
      "alpha = 1e+00, lambda = 1, loss = 1.895\n",
      "alpha = 1e+01, lambda = 1e-06, loss = 1.895\n",
      "alpha = 1e+01, lambda = 0.001, loss = 1.895\n",
      "alpha = 1e+01, lambda = 1, loss = 1.895\n",
      "alpha = 5e+01, lambda = 1e-06, loss = 1.895\n",
      "alpha = 5e+01, lambda = 0.001, loss = 1.895\n",
      "alpha = 5e+01, lambda = 1, loss = 1.895\n",
      "alpha = 1e+02, lambda = 1e-06, loss = 1.895\n",
      "alpha = 1e+02, lambda = 0.001, loss = 1.895\n",
      "alpha = 1e+02, lambda = 1, loss = 1.895\n"
     ]
    }
   ],
   "source": [
    "noIter = 500\n",
    "batchSize = 0.003  # defined as proportion of the whole dataset, ~100 observations\n",
    "regType = 'l2'\n",
    "intercept = False\n",
    "modelLoss = []  # storing losses of each model\n",
    "\n",
    "for alpha in [0.1, 1, 10, 50, 100]:\n",
    "    for regLambda in [1e-6, 1e-3, 1]:\n",
    "        model = LogisticRegressionWithSGD.train(data = trainRDD, \n",
    "                                           iterations = noIter, \n",
    "                                           step = alpha, \n",
    "                                           miniBatchFraction = batchSize, \n",
    "                                           initialWeights = None, \n",
    "                                           regParam = regLambda, \n",
    "                                           regType = regType, \n",
    "                                           intercept = intercept \n",
    "                                           )\n",
    "        \n",
    "        # evaluate the model\n",
    "        probLabVal = valRDD.map(lambda lp: probLabTuple(weights_sgd, lp))  \n",
    "        logLossVal = logLoss(probLabVal)\n",
    "        modelLoss.append(logLossVal)\n",
    "        \n",
    "        # some printout in each iteration\n",
    "        print 'alpha = {0:.0e}, lambda = {1}, loss = {2:.3f}'.format(alpha, regLambda, logLossVal)\n"
   ]
  },
  {
   "cell_type": "code",
   "execution_count": 129,
   "metadata": {
    "collapsed": true
   },
   "outputs": [],
   "source": [
    "# set parameters\n",
    "noIter = 500\n",
    "alpha = 50  \n",
    "batchSize = 0.003  \n",
    "regLambda = 1\n",
    "regType = 'l2'\n",
    "intercept = False\n",
    "\n",
    "# train it on trainRDD\n",
    "theModel = LogisticRegressionWithSGD.train(data = trainRDD, \n",
    "                                           iterations = noIter, \n",
    "                                           step = alpha, \n",
    "                                           miniBatchFraction = batchSize, \n",
    "                                           initialWeights = None, \n",
    "                                           regParam = regLambda, \n",
    "                                           regType = regType, \n",
    "                                           intercept = intercept \n",
    "                                           )"
   ]
  },
  {
   "cell_type": "code",
   "execution_count": 130,
   "metadata": {},
   "outputs": [
    {
     "name": "stdout",
     "output_type": "stream",
     "text": [
      "-7.75259221021e-12 0.887629578438\n",
      "-7.80101355184e-12 0.890050645319\n"
     ]
    }
   ],
   "source": [
    "# evaluate the final model\n",
    "\n",
    "# create probLabRDD and compute the log loss and missclassification error on training, using the new SGD weights\n",
    "probLabTrain = trainRDD.map(lambda lp: probLabTuple(theModel.weights, lp))\n",
    "logLossTrain_sgd = logLoss(probLabTrain)\n",
    "misErrorTrain_sgd = misError(probLabTrain, threshold)\n",
    "\n",
    "print logLossTrain_sgd, misErrorTrain_sgd\n",
    "\n",
    "# for validation set, using the new SGD weights\n",
    "probLabVal = valRDD.map(lambda lp: probLabTuple(theModel.weights, lp))\n",
    "logLossVal_sgd = logLoss(probLabVal)\n",
    "misErrorVal_sgd = misError(probLabVal, threshold)\n",
    "\n",
    "print logLossVal_sgd, misErrorVal_sgd"
   ]
  },
  {
   "cell_type": "code",
   "execution_count": 131,
   "metadata": {},
   "outputs": [
    {
     "name": "stdout",
     "output_type": "stream",
     "text": [
      "-7.66606885691e-12 0.883303411131\n"
     ]
    }
   ],
   "source": [
    "# finally, assesing our final chosen model on the test set\n",
    "probLabTest = testRDD.map(lambda lp: probLabTuple(theModel.weights, lp))\n",
    "logLossTest_sgd = logLoss(probLabTest)\n",
    "misErrorTest_sgd = misError(probLabTest, threshold)\n",
    "\n",
    "print logLossTest_sgd, misErrorTest_sgd"
   ]
  }
 ],
 "metadata": {
  "kernelspec": {
   "display_name": "Python 3",
   "language": "python",
   "name": "python3"
  },
  "language_info": {
   "codemirror_mode": {
    "name": "ipython",
    "version": 3
   },
   "file_extension": ".py",
   "mimetype": "text/x-python",
   "name": "python",
   "nbconvert_exporter": "python",
   "pygments_lexer": "ipython3",
   "version": "3.7.1"
  }
 },
 "nbformat": 4,
 "nbformat_minor": 1
}
